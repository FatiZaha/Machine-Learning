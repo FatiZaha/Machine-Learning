{
  "nbformat": 4,
  "nbformat_minor": 0,
  "metadata": {
    "colab": {
      "provenance": [],
      "authorship_tag": "ABX9TyOm9kjw8qt0qMrBgzt3AjZF",
      "include_colab_link": true
    },
    "kernelspec": {
      "name": "python3",
      "display_name": "Python 3"
    },
    "language_info": {
      "name": "python"
    }
  },
  "cells": [
    {
      "cell_type": "markdown",
      "metadata": {
        "id": "view-in-github",
        "colab_type": "text"
      },
      "source": [
        "<a href=\"https://colab.research.google.com/github/FatiZaha/Machine-Learning/blob/main/HerbsGuide.ipynb\" target=\"_parent\"><img src=\"https://colab.research.google.com/assets/colab-badge.svg\" alt=\"Open In Colab\"/></a>"
      ]
    },
    {
      "cell_type": "code",
      "execution_count": 36,
      "metadata": {
        "colab": {
          "base_uri": "https://localhost:8080/"
        },
        "id": "7IpU5LJb6lIj",
        "outputId": "676ee16d-0ed1-4f15-8b36-ac2bfb28794a"
      },
      "outputs": [
        {
          "output_type": "stream",
          "name": "stderr",
          "text": [
            "[nltk_data] Downloading package stopwords to /root/nltk_data...\n",
            "[nltk_data]   Unzipping corpora/stopwords.zip.\n"
          ]
        }
      ],
      "source": [
        "# Importer les bibliothèques nécessaires\n",
        "import pandas as pd\n",
        "from sklearn.feature_extraction.text import TfidfVectorizer\n",
        "from sklearn.metrics.pairwise import cosine_similarity\n",
        "import nltk\n",
        "from nltk.corpus import stopwords\n",
        "\n",
        "# Télécharger les stop words en français\n",
        "nltk.download('stopwords')\n",
        "stop_words_fr = stopwords.words('french')"
      ]
    },
    {
      "cell_type": "code",
      "source": [
        "# Charger les données depuis le fichier CSV\n",
        "df = pd.read_csv('plantes_medicinales.csv')\n",
        "\n",
        "# Appliquer une fonction pour tronquer les valeurs à 10 caractères et ajouter \"...\"\n",
        "df_tronque = df.map(lambda x: str(x)[:10] + \"...\" if len(str(x)) > 10 else str(x))\n",
        "\n",
        "# Afficher les 5 premières lignes pour vérifier\n",
        "print(df_tronque.head(5))\n"
      ],
      "metadata": {
        "colab": {
          "base_uri": "https://localhost:8080/"
        },
        "id": "6Y4nMvKQ7OkR",
        "outputId": "ae1014f3-9ba1-4be9-8ee0-cbdbaad02b54"
      },
      "execution_count": 37,
      "outputs": [
        {
          "output_type": "stream",
          "name": "stdout",
          "text": [
            "          Plante      Bienfaits   Utilisations    Précautions\n",
            "0  Menthe poi...  Soulage le...  Infusion, ...  Éviter en ...\n",
            "1      Camomille  Réduit le ...  Infusion, ...  Pas recomm...\n",
            "2      Aloe Vera  Apaise les...       Gel, jus  Ne pas app...\n",
            "3      Gingembre  Aide à la ...  Infusion, ...  Peut inter...\n",
            "4           Thym  Stimule le...  Infusion, ...  Utilisatio...\n"
          ]
        }
      ]
    },
    {
      "cell_type": "code",
      "source": [
        "# Fonction pour nettoyer et vectoriser les descriptions des plantes\n",
        "def vectoriser_texte(texte_plantes):\n",
        "    tfidf_vectorizer = TfidfVectorizer(stop_words=stop_words_fr)  # Enlever les mots fréquents en français\n",
        "    tfidf_matrix = tfidf_vectorizer.fit_transform(texte_plantes)  # Convertir le texte en une matrice TF-IDF\n",
        "    return tfidf_matrix"
      ],
      "metadata": {
        "id": "86EXE-7sB4Ox"
      },
      "execution_count": 38,
      "outputs": []
    },
    {
      "cell_type": "code",
      "source": [
        "# Fonction de recommandation basée sur les symptômes de l'utilisateur\n",
        "def recommander_plantes(symptome_utilisateur, df):\n",
        "    # Combiner les colonnes de 'Bienfaits' et 'Utilisations' pour former un seul texte pour chaque plante\n",
        "    textes_plantes = df['Bienfaits'] + \" \" + df['Utilisations']\n",
        "\n",
        "    # Ajouter le symptôme de l'utilisateur à la liste des plantes\n",
        "    textes_plantes = list(textes_plantes) + [symptome_utilisateur]\n",
        "\n",
        "    # Vectoriser les textes (plantes + symptôme utilisateur)\n",
        "    tfidf_matrix = vectoriser_texte(textes_plantes)\n",
        "\n",
        "    # Calculer la similarité cosinus entre le symptôme utilisateur et les plantes\n",
        "    similarity_matrix = cosine_similarity(tfidf_matrix[-1], tfidf_matrix[:-1])\n",
        "\n",
        "    # Créer une liste des plantes avec leur score de similarité\n",
        "    scores_similarite = similarity_matrix.flatten()\n",
        "\n",
        "    # Ajouter les scores de similarité aux données des plantes\n",
        "    df['score_similarite'] = scores_similarite\n",
        "\n",
        "    # Trier les plantes par score de similarité (de la plus pertinente à la moins pertinente)\n",
        "    recommandations = df[['Plante', 'Bienfaits', 'Utilisations', 'Précautions', 'score_similarite']].sort_values(by='score_similarite', ascending=False)\n",
        "\n",
        "    return recommandations[['Plante', 'Bienfaits', 'Utilisations', 'Précautions', 'score_similarite']].head(5)  # Limiter aux 5 meilleures plantes\n"
      ],
      "metadata": {
        "id": "fP7lVeXC7TEt"
      },
      "execution_count": 41,
      "outputs": []
    },
    {
      "cell_type": "code",
      "source": [
        "# Exemple d'utilisation : Entrer un symptôme\n",
        "symptome_utilisateur = \"Je cherche à réduire l'anxiété et favoriser un bon sommeil\"\n",
        "recommandations = recommander_plantes(symptome_utilisateur, df)\n",
        "\n",
        "# Afficher les recommandations enrichies\n",
        "print(\"\\nPlantes recommandées :\")\n",
        "for _, row in recommandations.iterrows():\n",
        "    print(f\"\\nPlante : {row['Plante']}\")\n",
        "    print(f\"Bienfaits : {row['Bienfaits']}\")\n",
        "    print(f\"Utilisations : {row['Utilisations']}\")\n",
        "    print(f\"Précautions : {row['Précautions']}\")\n",
        "    print(f\"Pertinence : {row['score_similarite']:.2f}\")"
      ],
      "metadata": {
        "colab": {
          "base_uri": "https://localhost:8080/"
        },
        "id": "feYDGziL7VdA",
        "outputId": "1f9d834e-79f5-4820-ea46-c8916e5244f0"
      },
      "execution_count": 42,
      "outputs": [
        {
          "output_type": "stream",
          "name": "stdout",
          "text": [
            "\n",
            "Plantes recommandées :\n",
            "\n",
            "Plante : Valériane\n",
            "Bienfaits : Favorise un sommeil réparateur, apaise l'anxiété et réduit le stress\n",
            "Utilisations : Infusion, teinture\n",
            "Précautions : Ne pas combiner avec des sédatifs\n",
            "Pertinence : 0.20\n",
            "\n",
            "Plante : Lavande\n",
            "Bienfaits : Apaise l'anxiété, favorise le sommeil, soulage les irritations cutanées\n",
            "Utilisations : Huile essentielle, infusion\n",
            "Précautions : À éviter en cas d'allergies respiratoires sévères\n",
            "Pertinence : 0.19\n",
            "\n",
            "Plante : Camomille\n",
            "Bienfaits : Réduit le stress, améliore le sommeil, soulage les crampes abdominales\n",
            "Utilisations : Infusion, teinture\n",
            "Précautions : Pas recommandé aux femmes enceintes sans avis médical\n",
            "Pertinence : 0.09\n",
            "\n",
            "Plante : Menthe poivrée\n",
            "Bienfaits : Soulage les maux de tête, les douleurs musculaires et les troubles digestifs\n",
            "Utilisations : Infusion, huile essentielle\n",
            "Précautions : Éviter en cas de reflux gastrique ou d'allergie\n",
            "Pertinence : 0.00\n",
            "\n",
            "Plante : Aloe Vera\n",
            "Bienfaits : Apaise les brûlures, hydrate la peau, accélère la cicatrisation\n",
            "Utilisations : Gel, jus\n",
            "Précautions : Ne pas appliquer sur des plaies ouvertes profondes\n",
            "Pertinence : 0.00\n"
          ]
        }
      ]
    }
  ]
}